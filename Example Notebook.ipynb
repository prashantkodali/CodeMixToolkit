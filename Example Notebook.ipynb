{
 "cells": [
  {
   "cell_type": "code",
   "execution_count": 5,
   "id": "314a3f32",
   "metadata": {},
   "outputs": [
    {
     "data": {
      "application/vnd.jupyter.widget-view+json": {
       "model_id": "18559083ea144a44be2041aa4d0a22e5",
       "version_major": 2,
       "version_minor": 0
      },
      "text/plain": [
       "Downloading https://raw.githubusercontent.com/stanfordnlp/stanza-resources/main/resources_1.8.0.json:   0%|   …"
      ]
     },
     "metadata": {},
     "output_type": "display_data"
    },
    {
     "name": "stderr",
     "output_type": "stream",
     "text": [
      "2024-08-10 22:26:58.325 INFO    stanza: Downloaded file to /Users/ashnadua/stanza_resources/resources.json\n",
      "2024-08-10 22:26:58.331 INFO    stanza: Downloading default packages for language: en (English) ...\n",
      "2024-08-10 22:26:59.816 INFO    stanza: File exists: /Users/ashnadua/stanza_resources/en/default.zip\n",
      "2024-08-10 22:27:02.382 INFO    stanza: Finished downloading models and saved to /Users/ashnadua/stanza_resources\n"
     ]
    },
    {
     "data": {
      "application/vnd.jupyter.widget-view+json": {
       "model_id": "f179fb7af9a8426b9fbfb78be412c87c",
       "version_major": 2,
       "version_minor": 0
      },
      "text/plain": [
       "Downloading https://raw.githubusercontent.com/stanfordnlp/stanza-resources/main/resources_1.8.0.json:   0%|   …"
      ]
     },
     "metadata": {},
     "output_type": "display_data"
    },
    {
     "name": "stderr",
     "output_type": "stream",
     "text": [
      "2024-08-10 22:27:02.479 INFO    stanza: Downloaded file to /Users/ashnadua/stanza_resources/resources.json\n",
      "2024-08-10 22:27:02.482 INFO    stanza: Downloading default packages for language: hi (Hindi) ...\n",
      "2024-08-10 22:27:03.368 INFO    stanza: File exists: /Users/ashnadua/stanza_resources/hi/default.zip\n",
      "2024-08-10 22:27:04.867 INFO    stanza: Finished downloading models and saved to /Users/ashnadua/stanza_resources\n"
     ]
    },
    {
     "data": {
      "application/vnd.jupyter.widget-view+json": {
       "model_id": "ebedd51e1f674a5faf05e81465a4dc83",
       "version_major": 2,
       "version_minor": 0
      },
      "text/plain": [
       "Downloading https://raw.githubusercontent.com/stanfordnlp/stanza-resources/main/resources_1.8.0.json:   0%|   …"
      ]
     },
     "metadata": {},
     "output_type": "display_data"
    },
    {
     "name": "stderr",
     "output_type": "stream",
     "text": [
      "2024-08-10 22:27:05.255 INFO    stanza: Downloaded file to /Users/ashnadua/stanza_resources/resources.json\n",
      "2024-08-10 22:27:05.278 INFO    stanza: Downloading default packages for language: mr (Marathi) ...\n",
      "2024-08-10 22:27:07.502 INFO    stanza: File exists: /Users/ashnadua/stanza_resources/mr/default.zip\n",
      "2024-08-10 22:27:10.128 INFO    stanza: Finished downloading models and saved to /Users/ashnadua/stanza_resources\n"
     ]
    },
    {
     "data": {
      "application/vnd.jupyter.widget-view+json": {
       "model_id": "76859f9eb94643c0bdc578c8ba149afe",
       "version_major": 2,
       "version_minor": 0
      },
      "text/plain": [
       "Downloading https://raw.githubusercontent.com/stanfordnlp/stanza-resources/main/resources_1.8.0.json:   0%|   …"
      ]
     },
     "metadata": {},
     "output_type": "display_data"
    },
    {
     "name": "stderr",
     "output_type": "stream",
     "text": [
      "2024-08-10 22:27:10.248 INFO    stanza: Downloaded file to /Users/ashnadua/stanza_resources/resources.json\n",
      "2024-08-10 22:27:10.251 INFO    stanza: Downloading default packages for language: ta (Tamil) ...\n",
      "2024-08-10 22:27:11.404 INFO    stanza: File exists: /Users/ashnadua/stanza_resources/ta/default.zip\n",
      "2024-08-10 22:27:13.279 INFO    stanza: Finished downloading models and saved to /Users/ashnadua/stanza_resources\n"
     ]
    },
    {
     "data": {
      "application/vnd.jupyter.widget-view+json": {
       "model_id": "52bcb9b6f3234b18ac7994b7e4d7927a",
       "version_major": 2,
       "version_minor": 0
      },
      "text/plain": [
       "Downloading https://raw.githubusercontent.com/stanfordnlp/stanza-resources/main/resources_1.8.0.json:   0%|   …"
      ]
     },
     "metadata": {},
     "output_type": "display_data"
    },
    {
     "name": "stderr",
     "output_type": "stream",
     "text": [
      "2024-08-10 22:27:13.428 INFO    stanza: Downloaded file to /Users/ashnadua/stanza_resources/resources.json\n",
      "2024-08-10 22:27:13.432 INFO    stanza: Downloading default packages for language: te (Telugu) ...\n",
      "2024-08-10 22:27:14.674 INFO    stanza: File exists: /Users/ashnadua/stanza_resources/te/default.zip\n",
      "2024-08-10 22:27:16.830 INFO    stanza: Finished downloading models and saved to /Users/ashnadua/stanza_resources\n",
      "Some weights of the model checkpoint at bert-base-multilingual-cased were not used when initializing BertModel: ['cls.seq_relationship.bias', 'cls.predictions.transform.dense.weight', 'cls.predictions.bias', 'cls.predictions.transform.dense.bias', 'cls.seq_relationship.weight', 'cls.predictions.transform.LayerNorm.bias', 'cls.predictions.transform.LayerNorm.weight']\n",
      "- This IS expected if you are initializing BertModel from the checkpoint of a model trained on another task or with another architecture (e.g. initializing a BertForSequenceClassification model from a BertForPreTraining model).\n",
      "- This IS NOT expected if you are initializing BertModel from the checkpoint of a model that you expect to be exactly identical (initializing a BertForSequenceClassification model from a BertForSequenceClassification model).\n"
     ]
    }
   ],
   "source": [
    "from codemix import cs_metrics\n",
    "from codemix import codemix_viz as cv\n",
    "from codemix import tokenize_pos_awesome_align as tpa"
   ]
  },
  {
   "cell_type": "markdown",
   "id": "8e9c15de",
   "metadata": {},
   "source": []
  },
  {
   "cell_type": "code",
   "execution_count": 6,
   "id": "66199363",
   "metadata": {},
   "outputs": [],
   "source": [
    "tokens = ['Gully', 'cricket', 'चल', 'रहा', 'हैं', 'यहां', '\"', '(', 'Soniya', ')', 'Gandhi', '\"']\n",
    "LID_Tags = ['en', 'en', 'hi', 'hi', 'hi', 'hi', 'univ', 'univ', 'ne', 'univ', 'ne', 'univ']\n",
    "PoS_Tags = ['ADJ', 'PROPN', 'VERB', 'AUX', 'AUX', 'ADV', 'PUNCT', 'PUNCT', 'PROPN', 'PUNCT', 'PROPN', 'PUNCT']"
   ]
  },
  {
   "cell_type": "code",
   "execution_count": 7,
   "id": "a2a91037",
   "metadata": {},
   "outputs": [],
   "source": [
    "lang_tags = ['hi', 'en']\n",
    "other_tags = ['univ', 'ne', 'acro']"
   ]
  },
  {
   "cell_type": "code",
   "execution_count": 8,
   "id": "dbd5aa58",
   "metadata": {},
   "outputs": [],
   "source": [
    "metrics = cs_metrics.CodeMixMetrics(lang_tags, other_tags)\n",
    "symcom = cs_metrics.SyMCoM(LID_Tags, PoS_Tags, 'en', 'hi')\n",
    "cm_sentence = cs_metrics.CodeMixSentence(sentence = None, tokens = tokens, LID_Tags = LID_Tags, PoS_Tags = PoS_Tags)"
   ]
  },
  {
   "cell_type": "markdown",
   "id": "3d1935f0",
   "metadata": {},
   "source": [
    "# Metrics"
   ]
  },
  {
   "cell_type": "code",
   "execution_count": 9,
   "id": "da43d44d",
   "metadata": {},
   "outputs": [
    {
     "name": "stdout",
     "output_type": "stream",
     "text": [
      "CMI Score: 33.333333333333336\n",
      "M-Index Score: 0.7999999999999999\n",
      "Lang Entropy Score: 0.9182958340544896\n",
      "SPAVG Score: 1\n",
      "I-Index Score: 0.2\n",
      "Burstiness Score: -0.3592455179659185\n",
      "\n",
      "PROPN_symcom : 1.0\n",
      "AUX_symcom : -1.0\n",
      "ADJ_symcom : 1.0\n",
      "VERB_symcom : -1.0\n",
      "ADV_symcom : -1.0\n",
      "SymCom Sentence: 0.6666666666666666\n"
     ]
    }
   ],
   "source": [
    "cmi_score = metrics.cmi(LID_Tags)\n",
    "mindex_score = metrics.mindex(LID_Tags)\n",
    "lang_entropy_score = metrics.lang_entropy(LID_Tags)\n",
    "spavg_score = metrics.spavg(LID_Tags)\n",
    "i_index_score = metrics.i_index(LID_Tags)\n",
    "burstiness_score = metrics.burstiness(LID_Tags)\n",
    "symcom_pos_tags = symcom.symcom_pos_tags(cm_sentence)\n",
    "symcom_sentence = symcom.symcom_sentence(cm_sentence)\n",
    "\n",
    "print(\"CMI Score:\", cmi_score)\n",
    "print(\"M-Index Score:\", mindex_score)\n",
    "print(\"Lang Entropy Score:\", lang_entropy_score)\n",
    "print(\"SPAVG Score:\", spavg_score)\n",
    "print(\"I-Index Score:\", i_index_score)\n",
    "print(\"Burstiness Score:\", burstiness_score)\n",
    "print(\"\")\n",
    "for tag, score in symcom_pos_tags.items():\n",
    "    print(tag, \":\", score)\n",
    "print(\"SymCom Sentence:\", symcom_sentence)"
   ]
  },
  {
   "cell_type": "markdown",
   "id": "0f5a21ba",
   "metadata": {},
   "source": [
    "# Visualization"
   ]
  },
  {
   "cell_type": "code",
   "execution_count": 10,
   "id": "eb8c9090",
   "metadata": {},
   "outputs": [],
   "source": [
    "annotation_printer = cv.AnnotatedTextPrinter()"
   ]
  },
  {
   "cell_type": "code",
   "execution_count": 11,
   "id": "ed0e1c3f",
   "metadata": {},
   "outputs": [
    {
     "data": {
      "text/html": [
       "<div><span style=\"display:inline-flex;flex-direction:row;align-items:center;background:#afa;border-radius:0.5rem;padding:0.25rem 0.5rem;overflow:hidden;line-height:1\">Gully<span style=\"border-left:1px solid;opacity:0.1;margin-left:0.5rem;align-self:stretch\"></span><span style=\"margin-left:0.5rem;font-size:0.75rem;opacity:0.5\">ADJ</span></span><span style=\"display:inline-flex;flex-direction:row;align-items:center;background:#afa;border-radius:0.5rem;padding:0.25rem 0.5rem;overflow:hidden;line-height:1\">cricket<span style=\"border-left:1px solid;opacity:0.1;margin-left:0.5rem;align-self:stretch\"></span><span style=\"margin-left:0.5rem;font-size:0.75rem;opacity:0.5\">PROPN</span></span><span style=\"display:inline-flex;flex-direction:row;align-items:center;background:#faa;border-radius:0.5rem;padding:0.25rem 0.5rem;overflow:hidden;line-height:1\">चल<span style=\"border-left:1px solid;opacity:0.1;margin-left:0.5rem;align-self:stretch\"></span><span style=\"margin-left:0.5rem;font-size:0.75rem;opacity:0.5\">VERB</span></span><span style=\"display:inline-flex;flex-direction:row;align-items:center;background:#faa;border-radius:0.5rem;padding:0.25rem 0.5rem;overflow:hidden;line-height:1\">रहा<span style=\"border-left:1px solid;opacity:0.1;margin-left:0.5rem;align-self:stretch\"></span><span style=\"margin-left:0.5rem;font-size:0.75rem;opacity:0.5\">AUX</span></span><span style=\"display:inline-flex;flex-direction:row;align-items:center;background:#faa;border-radius:0.5rem;padding:0.25rem 0.5rem;overflow:hidden;line-height:1\">हैं<span style=\"border-left:1px solid;opacity:0.1;margin-left:0.5rem;align-self:stretch\"></span><span style=\"margin-left:0.5rem;font-size:0.75rem;opacity:0.5\">AUX</span></span><span style=\"display:inline-flex;flex-direction:row;align-items:center;background:#faa;border-radius:0.5rem;padding:0.25rem 0.5rem;overflow:hidden;line-height:1\">यहां<span style=\"border-left:1px solid;opacity:0.1;margin-left:0.5rem;align-self:stretch\"></span><span style=\"margin-left:0.5rem;font-size:0.75rem;opacity:0.5\">ADV</span></span><span style=\"display:inline-flex;flex-direction:row;align-items:center;background:#c39;border-radius:0.5rem;padding:0.25rem 0.5rem;overflow:hidden;line-height:1\">&quot;<span style=\"border-left:1px solid;opacity:0.1;margin-left:0.5rem;align-self:stretch\"></span><span style=\"margin-left:0.5rem;font-size:0.75rem;opacity:0.5\">PUNCT</span></span><span style=\"display:inline-flex;flex-direction:row;align-items:center;background:#c39;border-radius:0.5rem;padding:0.25rem 0.5rem;overflow:hidden;line-height:1\">(<span style=\"border-left:1px solid;opacity:0.1;margin-left:0.5rem;align-self:stretch\"></span><span style=\"margin-left:0.5rem;font-size:0.75rem;opacity:0.5\">PUNCT</span></span><span style=\"display:inline-flex;flex-direction:row;align-items:center;background:#8ef;border-radius:0.5rem;padding:0.25rem 0.5rem;overflow:hidden;line-height:1\">Soniya<span style=\"border-left:1px solid;opacity:0.1;margin-left:0.5rem;align-self:stretch\"></span><span style=\"margin-left:0.5rem;font-size:0.75rem;opacity:0.5\">PROPN</span></span><span style=\"display:inline-flex;flex-direction:row;align-items:center;background:#c39;border-radius:0.5rem;padding:0.25rem 0.5rem;overflow:hidden;line-height:1\">)<span style=\"border-left:1px solid;opacity:0.1;margin-left:0.5rem;align-self:stretch\"></span><span style=\"margin-left:0.5rem;font-size:0.75rem;opacity:0.5\">PUNCT</span></span><span style=\"display:inline-flex;flex-direction:row;align-items:center;background:#8ef;border-radius:0.5rem;padding:0.25rem 0.5rem;overflow:hidden;line-height:1\">Gandhi<span style=\"border-left:1px solid;opacity:0.1;margin-left:0.5rem;align-self:stretch\"></span><span style=\"margin-left:0.5rem;font-size:0.75rem;opacity:0.5\">PROPN</span></span><span style=\"display:inline-flex;flex-direction:row;align-items:center;background:#c39;border-radius:0.5rem;padding:0.25rem 0.5rem;overflow:hidden;line-height:1\">&quot;<span style=\"border-left:1px solid;opacity:0.1;margin-left:0.5rem;align-self:stretch\"></span><span style=\"margin-left:0.5rem;font-size:0.75rem;opacity:0.5\">PUNCT</span></span></div>"
      ],
      "text/plain": [
       "<IPython.core.display.HTML object>"
      ]
     },
     "metadata": {},
     "output_type": "display_data"
    },
    {
     "data": {
      "text/html": [
       "<hr>"
      ],
      "text/plain": [
       "<IPython.core.display.HTML object>"
      ]
     },
     "metadata": {},
     "output_type": "display_data"
    }
   ],
   "source": [
    "annotation_printer.print_sample_st_annot_text(tokens, LID_Tags, PoS_Tags)"
   ]
  },
  {
   "cell_type": "code",
   "execution_count": 12,
   "id": "1d5278b1",
   "metadata": {},
   "outputs": [
    {
     "name": "stdout",
     "output_type": "stream",
     "text": [
      "error\n",
      "unique_utterances_en_hi_transltions.json\n",
      "done\n"
     ]
    }
   ],
   "source": [
    "filename = \"unique_utterances_en_hi_transltions.json\"\n",
    "df_codemixed = tpa.get_codemix_candidates_for_file(filename)\n",
    "df_codemixed"
   ]
  },
  {
   "cell_type": "markdown",
   "id": "a1189cae",
   "metadata": {},
   "source": [
    "# LID Tags"
   ]
  },
  {
   "cell_type": "code",
   "execution_count": 13,
   "id": "f99c590f",
   "metadata": {},
   "outputs": [],
   "source": [
    "from codemix import tags"
   ]
  },
  {
   "cell_type": "code",
   "execution_count": 14,
   "id": "bf168f08",
   "metadata": {},
   "outputs": [],
   "source": [
    "tags = tags.Tags()\n",
    "sentence = \"मैं Hyderabaed में movie देखने जा रहा हूँ\""
   ]
  },
  {
   "cell_type": "code",
   "execution_count": 15,
   "id": "0dc10d5f",
   "metadata": {},
   "outputs": [
    {
     "name": "stdout",
     "output_type": "stream",
     "text": [
      "LID tags: (['मैं', 'Hyderabaed', 'में', 'movie', 'देखने', 'जा', 'रहा', 'हूँ'], ['hi', 'ne', 'hi', 'en', 'hi', 'hi', 'hi', 'hi'])\n"
     ]
    }
   ],
   "source": [
    "lid_tags = tags.analyze(sentence)\n",
    "print(\"LID tags:\", lid_tags)"
   ]
  },
  {
   "cell_type": "code",
   "execution_count": null,
   "id": "22841432",
   "metadata": {},
   "outputs": [],
   "source": []
  }
 ],
 "metadata": {
  "kernelspec": {
   "display_name": "Python 3 (ipykernel)",
   "language": "python",
   "name": "python3"
  },
  "language_info": {
   "codemirror_mode": {
    "name": "ipython",
    "version": 3
   },
   "file_extension": ".py",
   "mimetype": "text/x-python",
   "name": "python",
   "nbconvert_exporter": "python",
   "pygments_lexer": "ipython3",
   "version": "3.11.6"
  }
 },
 "nbformat": 4,
 "nbformat_minor": 5
}
