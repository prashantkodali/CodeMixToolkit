{
 "cells": [
  {
   "cell_type": "code",
   "execution_count": 1,
   "id": "314a3f32",
   "metadata": {},
   "outputs": [
    {
     "name": "stderr",
     "output_type": "stream",
     "text": [
      "/home/prashantk/miniconda3/envs/codemixtoolkit/lib/python3.10/site-packages/tqdm/auto.py:21: TqdmWarning: IProgress not found. Please update jupyter and ipywidgets. See https://ipywidgets.readthedocs.io/en/stable/user_install.html\n",
      "  from .autonotebook import tqdm as notebook_tqdm\n",
      "Downloading https://raw.githubusercontent.com/stanfordnlp/stanza-resources/main/resources_1.10.0.json: 426kB [00:00, 20.4MB/s]                    \n",
      "2025-04-14 17:14:46 INFO: Downloaded file to /home/prashantk/stanza_resources/resources.json\n",
      "2025-04-14 17:14:46 INFO: Downloading default packages for language: en (English) ...\n",
      "2025-04-14 17:14:47 INFO: File exists: /home/prashantk/stanza_resources/en/default.zip\n",
      "2025-04-14 17:14:50 INFO: Finished downloading models and saved to /home/prashantk/stanza_resources\n",
      "Downloading https://raw.githubusercontent.com/stanfordnlp/stanza-resources/main/resources_1.10.0.json: 426kB [00:00, 21.3MB/s]                    \n",
      "2025-04-14 17:14:50 INFO: Downloaded file to /home/prashantk/stanza_resources/resources.json\n",
      "2025-04-14 17:14:50 INFO: Downloading default packages for language: hi (Hindi) ...\n",
      "2025-04-14 17:14:51 INFO: File exists: /home/prashantk/stanza_resources/hi/default.zip\n",
      "2025-04-14 17:14:52 INFO: Finished downloading models and saved to /home/prashantk/stanza_resources\n"
     ]
    }
   ],
   "source": [
    "from codemix import cs_metrics\n",
    "from codemix import codemix_viz as cv\n",
    "from codemix import tokenize_pos_awesome_align as tpa"
   ]
  },
  {
   "cell_type": "code",
   "execution_count": 2,
   "id": "66199363",
   "metadata": {},
   "outputs": [],
   "source": [
    "tokens = ['Gully', 'cricket', 'चल', 'रहा', 'हैं', 'यहां', '\"', '(', 'Soniya', ')', 'Gandhi', '\"']\n",
    "LID_Tags = ['en', 'en', 'hi', 'hi', 'hi', 'hi', 'univ', 'univ', 'ne', 'univ', 'ne', 'univ']\n",
    "PoS_Tags = ['ADJ', 'PROPN', 'VERB', 'AUX', 'AUX', 'ADV', 'PUNCT', 'PUNCT', 'PROPN', 'PUNCT', 'PROPN', 'PUNCT']"
   ]
  },
  {
   "cell_type": "code",
   "execution_count": 3,
   "id": "a2a91037",
   "metadata": {},
   "outputs": [],
   "source": [
    "lang_tags = ['hi', 'en']\n",
    "other_tags = ['univ', 'ne', 'acro']"
   ]
  },
  {
   "cell_type": "code",
   "execution_count": 4,
   "id": "dbd5aa58",
   "metadata": {},
   "outputs": [],
   "source": [
    "metrics = cs_metrics.CodeMixMetrics(lang_tags, other_tags)\n",
    "symcom = cs_metrics.SyMCoM(LID_Tags, PoS_Tags, 'en', 'hi')\n",
    "cm_sentence = cs_metrics.CodeMixSentence(sentence = None, tokens = tokens, LID_Tags = LID_Tags, PoS_Tags = PoS_Tags)"
   ]
  },
  {
   "cell_type": "markdown",
   "id": "3d1935f0",
   "metadata": {},
   "source": [
    "# Metrics"
   ]
  },
  {
   "cell_type": "code",
   "execution_count": 5,
   "id": "da43d44d",
   "metadata": {},
   "outputs": [
    {
     "name": "stdout",
     "output_type": "stream",
     "text": [
      "CMI Score: 33.333333333333336\n",
      "M-Index Score: 0.7999999999999999\n",
      "Lang Entropy Score: 0.9182958340544896\n",
      "SPAVG Score: 1\n",
      "I-Index Score: 0.2\n",
      "Burstiness Score: -0.3592455179659185\n",
      "\n",
      "PROPN_symcom : 1.0\n",
      "AUX_symcom : -1.0\n",
      "ADJ_symcom : 1.0\n",
      "VERB_symcom : -1.0\n",
      "ADV_symcom : -1.0\n",
      "SymCom Sentence: 0.6666666666666666\n"
     ]
    }
   ],
   "source": [
    "cmi_score = metrics.cmi(LID_Tags)\n",
    "mindex_score = metrics.mindex(LID_Tags)\n",
    "lang_entropy_score = metrics.lang_entropy(LID_Tags)\n",
    "spavg_score = metrics.spavg(LID_Tags)\n",
    "i_index_score = metrics.i_index(LID_Tags)\n",
    "burstiness_score = metrics.burstiness(LID_Tags)\n",
    "symcom_pos_tags = symcom.symcom_pos_tags(cm_sentence)\n",
    "symcom_sentence = symcom.symcom_sentence(cm_sentence)\n",
    "\n",
    "print(\"CMI Score:\", cmi_score)\n",
    "print(\"M-Index Score:\", mindex_score)\n",
    "print(\"Lang Entropy Score:\", lang_entropy_score)\n",
    "print(\"SPAVG Score:\", spavg_score)\n",
    "print(\"I-Index Score:\", i_index_score)\n",
    "print(\"Burstiness Score:\", burstiness_score)\n",
    "print(\"\")\n",
    "for tag, score in symcom_pos_tags.items():\n",
    "    print(tag, \":\", score)\n",
    "print(\"SymCom Sentence:\", symcom_sentence)"
   ]
  },
  {
   "cell_type": "markdown",
   "id": "0f5a21ba",
   "metadata": {},
   "source": [
    "# Visualization"
   ]
  },
  {
   "cell_type": "code",
   "execution_count": 6,
   "id": "eb8c9090",
   "metadata": {},
   "outputs": [],
   "source": [
    "annotation_printer = cv.AnnotatedTextPrinter()"
   ]
  },
  {
   "cell_type": "code",
   "execution_count": 7,
   "id": "ed0e1c3f",
   "metadata": {},
   "outputs": [
    {
     "data": {
      "text/html": [
       "<div><span style=\"display:inline-flex;flex-direction:row;align-items:center;background:#afa;border-radius:0.5rem;padding:0.25rem 0.5rem;overflow:hidden;line-height:1\">Gully<span style=\"border-left:1px solid;opacity:0.1;margin-left:0.5rem;align-self:stretch\"></span><span style=\"margin-left:0.5rem;font-size:0.75rem;opacity:0.5\">ADJ</span></span><span style=\"display:inline-flex;flex-direction:row;align-items:center;background:#afa;border-radius:0.5rem;padding:0.25rem 0.5rem;overflow:hidden;line-height:1\">cricket<span style=\"border-left:1px solid;opacity:0.1;margin-left:0.5rem;align-self:stretch\"></span><span style=\"margin-left:0.5rem;font-size:0.75rem;opacity:0.5\">PROPN</span></span><span style=\"display:inline-flex;flex-direction:row;align-items:center;background:#faa;border-radius:0.5rem;padding:0.25rem 0.5rem;overflow:hidden;line-height:1\">चल<span style=\"border-left:1px solid;opacity:0.1;margin-left:0.5rem;align-self:stretch\"></span><span style=\"margin-left:0.5rem;font-size:0.75rem;opacity:0.5\">VERB</span></span><span style=\"display:inline-flex;flex-direction:row;align-items:center;background:#faa;border-radius:0.5rem;padding:0.25rem 0.5rem;overflow:hidden;line-height:1\">रहा<span style=\"border-left:1px solid;opacity:0.1;margin-left:0.5rem;align-self:stretch\"></span><span style=\"margin-left:0.5rem;font-size:0.75rem;opacity:0.5\">AUX</span></span><span style=\"display:inline-flex;flex-direction:row;align-items:center;background:#faa;border-radius:0.5rem;padding:0.25rem 0.5rem;overflow:hidden;line-height:1\">हैं<span style=\"border-left:1px solid;opacity:0.1;margin-left:0.5rem;align-self:stretch\"></span><span style=\"margin-left:0.5rem;font-size:0.75rem;opacity:0.5\">AUX</span></span><span style=\"display:inline-flex;flex-direction:row;align-items:center;background:#faa;border-radius:0.5rem;padding:0.25rem 0.5rem;overflow:hidden;line-height:1\">यहां<span style=\"border-left:1px solid;opacity:0.1;margin-left:0.5rem;align-self:stretch\"></span><span style=\"margin-left:0.5rem;font-size:0.75rem;opacity:0.5\">ADV</span></span><span style=\"display:inline-flex;flex-direction:row;align-items:center;background:#c39;border-radius:0.5rem;padding:0.25rem 0.5rem;overflow:hidden;line-height:1\">&quot;<span style=\"border-left:1px solid;opacity:0.1;margin-left:0.5rem;align-self:stretch\"></span><span style=\"margin-left:0.5rem;font-size:0.75rem;opacity:0.5\">PUNCT</span></span><span style=\"display:inline-flex;flex-direction:row;align-items:center;background:#c39;border-radius:0.5rem;padding:0.25rem 0.5rem;overflow:hidden;line-height:1\">(<span style=\"border-left:1px solid;opacity:0.1;margin-left:0.5rem;align-self:stretch\"></span><span style=\"margin-left:0.5rem;font-size:0.75rem;opacity:0.5\">PUNCT</span></span><span style=\"display:inline-flex;flex-direction:row;align-items:center;background:#8ef;border-radius:0.5rem;padding:0.25rem 0.5rem;overflow:hidden;line-height:1\">Soniya<span style=\"border-left:1px solid;opacity:0.1;margin-left:0.5rem;align-self:stretch\"></span><span style=\"margin-left:0.5rem;font-size:0.75rem;opacity:0.5\">PROPN</span></span><span style=\"display:inline-flex;flex-direction:row;align-items:center;background:#c39;border-radius:0.5rem;padding:0.25rem 0.5rem;overflow:hidden;line-height:1\">)<span style=\"border-left:1px solid;opacity:0.1;margin-left:0.5rem;align-self:stretch\"></span><span style=\"margin-left:0.5rem;font-size:0.75rem;opacity:0.5\">PUNCT</span></span><span style=\"display:inline-flex;flex-direction:row;align-items:center;background:#8ef;border-radius:0.5rem;padding:0.25rem 0.5rem;overflow:hidden;line-height:1\">Gandhi<span style=\"border-left:1px solid;opacity:0.1;margin-left:0.5rem;align-self:stretch\"></span><span style=\"margin-left:0.5rem;font-size:0.75rem;opacity:0.5\">PROPN</span></span><span style=\"display:inline-flex;flex-direction:row;align-items:center;background:#c39;border-radius:0.5rem;padding:0.25rem 0.5rem;overflow:hidden;line-height:1\">&quot;<span style=\"border-left:1px solid;opacity:0.1;margin-left:0.5rem;align-self:stretch\"></span><span style=\"margin-left:0.5rem;font-size:0.75rem;opacity:0.5\">PUNCT</span></span></div>"
      ],
      "text/plain": [
       "<IPython.core.display.HTML object>"
      ]
     },
     "metadata": {},
     "output_type": "display_data"
    },
    {
     "data": {
      "text/html": [
       "<hr>"
      ],
      "text/plain": [
       "<IPython.core.display.HTML object>"
      ]
     },
     "metadata": {},
     "output_type": "display_data"
    }
   ],
   "source": [
    "annotation_printer.print_sample_st_annot_text(tokens, LID_Tags, PoS_Tags)"
   ]
  },
  {
   "cell_type": "code",
   "execution_count": 8,
   "id": "1d5278b1",
   "metadata": {},
   "outputs": [
    {
     "name": "stderr",
     "output_type": "stream",
     "text": [
      "0it [00:00, ?it/s]2025-04-14 17:15:14 INFO: Checking for updates to resources.json in case models have been updated.  Note: this behavior can be turned off with download_method=None or download_method=DownloadMethod.REUSE_RESOURCES\n",
      "Downloading https://raw.githubusercontent.com/stanfordnlp/stanza-resources/main/resources_1.10.0.json: 426kB [00:00, 21.9MB/s]                    \n",
      "2025-04-14 17:15:15 INFO: Downloaded file to /home/prashantk/stanza_resources/resources.json\n",
      "2025-04-14 17:15:15 WARNING: Language en package default expects mwt, which has been added\n",
      "2025-04-14 17:15:15 INFO: Loading these models for language: en (English):\n",
      "===============================\n",
      "| Processor | Package         |\n",
      "-------------------------------\n",
      "| tokenize  | combined        |\n",
      "| mwt       | combined        |\n",
      "| pos       | combined_charlm |\n",
      "===============================\n",
      "\n",
      "2025-04-14 17:15:15 INFO: Using device: cuda\n",
      "2025-04-14 17:15:15 INFO: Loading: tokenize\n",
      "2025-04-14 17:15:15 INFO: Loading: mwt\n",
      "2025-04-14 17:15:15 INFO: Loading: pos\n",
      "2025-04-14 17:15:17 INFO: Done loading processors!\n",
      "2025-04-14 17:15:17 INFO: Checking for updates to resources.json in case models have been updated.  Note: this behavior can be turned off with download_method=None or download_method=DownloadMethod.REUSE_RESOURCES\n",
      "Downloading https://raw.githubusercontent.com/stanfordnlp/stanza-resources/main/resources_1.10.0.json: 426kB [00:00, 20.6MB/s]                    \n",
      "2025-04-14 17:15:17 INFO: Downloaded file to /home/prashantk/stanza_resources/resources.json\n",
      "2025-04-14 17:15:17 INFO: Loading these models for language: hi (Hindi):\n",
      "===========================\n",
      "| Processor | Package     |\n",
      "---------------------------\n",
      "| tokenize  | hdtb        |\n",
      "| pos       | hdtb_charlm |\n",
      "===========================\n",
      "\n",
      "2025-04-14 17:15:17 INFO: Using device: cuda\n",
      "2025-04-14 17:15:17 INFO: Loading: tokenize\n",
      "2025-04-14 17:15:17 INFO: Loading: pos\n",
      "2025-04-14 17:15:19 INFO: Done loading processors!\n",
      "1it [00:04,  4.42s/it]\n",
      "1it [00:00,  3.42it/s]\n",
      "1it [00:00, 4826.59it/s]"
     ]
    },
    {
     "name": "stdout",
     "output_type": "stream",
     "text": [
      "done\n"
     ]
    },
    {
     "name": "stderr",
     "output_type": "stream",
     "text": [
      "\n"
     ]
    },
    {
     "data": {
      "text/html": [
       "<div>\n",
       "<style scoped>\n",
       "    .dataframe tbody tr th:only-of-type {\n",
       "        vertical-align: middle;\n",
       "    }\n",
       "\n",
       "    .dataframe tbody tr th {\n",
       "        vertical-align: top;\n",
       "    }\n",
       "\n",
       "    .dataframe thead th {\n",
       "        text-align: right;\n",
       "    }\n",
       "</style>\n",
       "<table border=\"1\" class=\"dataframe\">\n",
       "  <thead>\n",
       "    <tr style=\"text-align: right;\">\n",
       "      <th></th>\n",
       "      <th>en</th>\n",
       "      <th>hi</th>\n",
       "      <th>lang1</th>\n",
       "      <th>lang1_tokens</th>\n",
       "      <th>lang1_pos</th>\n",
       "      <th>lang2</th>\n",
       "      <th>lang2_tokens</th>\n",
       "      <th>lang2_pos</th>\n",
       "      <th>alignments_awesomealign</th>\n",
       "      <th>token_alignment_map_awesomealign</th>\n",
       "      <th>codemixed-sentences</th>\n",
       "    </tr>\n",
       "  </thead>\n",
       "  <tbody>\n",
       "    <tr>\n",
       "      <th>0</th>\n",
       "      <td>Okay, how much does it cost?</td>\n",
       "      <td>ठीक है, इसकी लागत कितनी है?</td>\n",
       "      <td>en</td>\n",
       "      <td>[[Okay, ,, how, much, does, it, cost, ?]]</td>\n",
       "      <td>[[INTJ, PUNCT, ADV, ADV, AUX, PRON, VERB, PUNCT]]</td>\n",
       "      <td>hi</td>\n",
       "      <td>[[ठीक, है, ,, इसकी, लागत, कितनी, है, ?]]</td>\n",
       "      <td>[[ADJ, AUX, PUNCT, PRON, NOUN, DET, AUX, PUNCT]]</td>\n",
       "      <td>[0-0 0-1 1-2 2-5 3-4 4-6 5-3 6-4 7-7 ]</td>\n",
       "      <td>[{'Okay': 'है', 'ठीक': 'Okay', 'है': 'does', '...</td>\n",
       "      <td>Okay है , इसकी cost कितनी है ?</td>\n",
       "    </tr>\n",
       "  </tbody>\n",
       "</table>\n",
       "</div>"
      ],
      "text/plain": [
       "                             en                           hi lang1  \\\n",
       "0  Okay, how much does it cost?  ठीक है, इसकी लागत कितनी है?    en   \n",
       "\n",
       "                                lang1_tokens  \\\n",
       "0  [[Okay, ,, how, much, does, it, cost, ?]]   \n",
       "\n",
       "                                           lang1_pos lang2  \\\n",
       "0  [[INTJ, PUNCT, ADV, ADV, AUX, PRON, VERB, PUNCT]]    hi   \n",
       "\n",
       "                               lang2_tokens  \\\n",
       "0  [[ठीक, है, ,, इसकी, लागत, कितनी, है, ?]]   \n",
       "\n",
       "                                          lang2_pos  \\\n",
       "0  [[ADJ, AUX, PUNCT, PRON, NOUN, DET, AUX, PUNCT]]   \n",
       "\n",
       "                  alignments_awesomealign  \\\n",
       "0  [0-0 0-1 1-2 2-5 3-4 4-6 5-3 6-4 7-7 ]   \n",
       "\n",
       "                    token_alignment_map_awesomealign  \\\n",
       "0  [{'Okay': 'है', 'ठीक': 'Okay', 'है': 'does', '...   \n",
       "\n",
       "               codemixed-sentences  \n",
       "0   Okay है , इसकी cost कितनी है ?  "
      ]
     },
     "execution_count": 8,
     "metadata": {},
     "output_type": "execute_result"
    }
   ],
   "source": [
    "filename = \"unique_utterances_en_hi_transltions.json\"\n",
    "df_codemixed = tpa.get_codemix_candidates_for_file(filename)\n",
    "df_codemixed"
   ]
  },
  {
   "cell_type": "markdown",
   "id": "a1189cae",
   "metadata": {},
   "source": [
    "# LID Tags"
   ]
  },
  {
   "cell_type": "code",
   "execution_count": 9,
   "id": "f99c590f",
   "metadata": {},
   "outputs": [],
   "source": [
    "from codemix import tags"
   ]
  },
  {
   "cell_type": "code",
   "execution_count": 10,
   "id": "bf168f08",
   "metadata": {},
   "outputs": [],
   "source": [
    "tags = tags.Tags()\n",
    "sentence = \"मैं Hyderabaed में movie देखने जा रहा हूँ\""
   ]
  },
  {
   "cell_type": "code",
   "execution_count": 11,
   "id": "0dc10d5f",
   "metadata": {},
   "outputs": [
    {
     "name": "stdout",
     "output_type": "stream",
     "text": [
      "LID tags: (['मैं', 'Hyderabaed', 'में', 'movie', 'देखने', 'जा', 'रहा', 'हूँ'], ['hi', 'ne', 'hi', 'en', 'hi', 'hi', 'hi', 'hi'])\n"
     ]
    }
   ],
   "source": [
    "lid_tags = tags.analyze(sentence)\n",
    "print(\"LID tags:\", lid_tags)"
   ]
  },
  {
   "cell_type": "markdown",
   "id": "15a085cd",
   "metadata": {},
   "source": [
    "# Normalisation / Romanisation"
   ]
  },
  {
   "cell_type": "code",
   "execution_count": 12,
   "id": "22841432",
   "metadata": {},
   "outputs": [],
   "source": [
    "from ai4bharat.transliteration import XlitEngine"
   ]
  },
  {
   "cell_type": "code",
   "execution_count": 13,
   "id": "c0680007",
   "metadata": {},
   "outputs": [
    {
     "name": "stdout",
     "output_type": "stream",
     "text": [
      "Initializing Multilingual model for transliteration\n"
     ]
    },
    {
     "name": "stderr",
     "output_type": "stream",
     "text": [
      "/home/prashantk/miniconda3/envs/codemixtoolkit/lib/python3.10/site-packages/fairseq/checkpoint_utils.py:315: FutureWarning: You are using `torch.load` with `weights_only=False` (the current default value), which uses the default pickle module implicitly. It is possible to construct malicious pickle data which will execute arbitrary code during unpickling (See https://github.com/pytorch/pytorch/blob/main/SECURITY.md#untrusted-models for more details). In a future release, the default value for `weights_only` will be flipped to `True`. This limits the functions that could be executed during unpickling. Arbitrary objects will no longer be allowed to be loaded via this mode unless they are explicitly allowlisted by the user via `torch.serialization.add_safe_globals`. We recommend you start setting `weights_only=True` for any use case where you don't have full control of the loaded file. Please open an issue on GitHub for any issues related to this experimental feature.\n",
      "  state = torch.load(f, map_location=torch.device(\"cpu\"))\n",
      "Loading dicts into RAM: 100%|██████████| 1/1 [00:00<00:00, 17.54it/s]\n"
     ]
    },
    {
     "name": "stdout",
     "output_type": "stream",
     "text": [
      "main hyderabaed main movie dekhane jaa rahaa hoon\n"
     ]
    }
   ],
   "source": [
    "e = XlitEngine( beam_width=10, src_script_type = \"indic\")\n",
    "out = e.translit_sentence(\"मैं Hyderabaed में movie देखने जा रहा हूँ\", 'hi')\n",
    "print(out)"
   ]
  },
  {
   "cell_type": "code",
   "execution_count": 14,
   "id": "fe3278be",
   "metadata": {},
   "outputs": [],
   "source": [
    "from codemix.normalize import normalize_text"
   ]
  },
  {
   "cell_type": "code",
   "execution_count": 16,
   "id": "d94d57b0",
   "metadata": {},
   "outputs": [
    {
     "name": "stdout",
     "output_type": "stream",
     "text": [
      "Initializing Multilingual model for transliteration\n"
     ]
    },
    {
     "name": "stderr",
     "output_type": "stream",
     "text": [
      "Loading dicts into RAM: 100%|██████████| 1/1 [00:00<00:00, 23.14it/s]\n"
     ]
    },
    {
     "data": {
      "text/plain": [
       "'main hyderabaed main movie dekhane jaa rahaa hoon'"
      ]
     },
     "execution_count": 16,
     "metadata": {},
     "output_type": "execute_result"
    }
   ],
   "source": [
    "from codemix.normalize import Normalizer\n",
    "normalizer = Normalizer()\n",
    "\n",
    "sentence = \"मैं Hyderabaed में movie देखने जा रहा हूँ\"\n",
    "normalizer.normalize_text(sentence)"
   ]
  }
 ],
 "metadata": {
  "kernelspec": {
   "display_name": "codemixtoolkit",
   "language": "python",
   "name": "python3"
  },
  "language_info": {
   "codemirror_mode": {
    "name": "ipython",
    "version": 3
   },
   "file_extension": ".py",
   "mimetype": "text/x-python",
   "name": "python",
   "nbconvert_exporter": "python",
   "pygments_lexer": "ipython3",
   "version": "3.10.16"
  }
 },
 "nbformat": 4,
 "nbformat_minor": 5
}
